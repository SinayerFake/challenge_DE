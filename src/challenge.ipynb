{
 "cells": [
  {
   "cell_type": "markdown",
   "metadata": {},
   "source": [
    "# Challenge DE Latam\n",
    "- Antonio San Martín Mora\n",
    "- antsanmora@gmail.com"
   ]
  },
  {
   "cell_type": "markdown",
   "metadata": {},
   "source": [
    "Primero descargué localmente el archivo y como era muy grande utilicé una versión con 100 de los primeros registros para poder trabajar más rápidamente al inicio y el original lo agregué al archivo .gitignore."
   ]
  },
  {
   "cell_type": "code",
   "execution_count": 1,
   "metadata": {},
   "outputs": [],
   "source": [
    "# Archivo original\n",
    "file_path = \"farmers-protest-tweets-2021-2-4.json\"\n",
    "# Archivo de 100 registros\n",
    "file_path_100 = \"farmers-protest-tweets-2021-2-4_100.json\""
   ]
  },
  {
   "cell_type": "markdown",
   "metadata": {},
   "source": [
    "Estuve investigando al respecto del uso de tiempo en estas circunstancias y me di cuenta de la existencia de la estructura Counter, la probé y según los resultados en realidad no generó un mayor cambio en el uso de tiempo ni de espacio (con respecto a la solución de defaultdict), ese era el objetivo, pero como no generó ningún impacto, lo dejé así.\n",
    "https://www.adventuresinmachinelearning.com/maximizing-python-efficiency-counting-and-multisets-with-counter/"
   ]
  },
  {
   "cell_type": "code",
   "execution_count": 3,
   "metadata": {},
   "outputs": [
    {
     "name": "stdout",
     "output_type": "stream",
     "text": [
      "Tiempo de ejecución: 6.1943 segundos\n",
      "Uso de memoria máximo: 2702.64 MB\n",
      "Tiempo de ejecución: 5.7182 segundos\n",
      "Uso de memoria máximo: 1164.94 MB\n",
      "[(datetime.date(2021, 2, 12), 'RanbirS00614606'), (datetime.date(2021, 2, 13), 'MaanDee08215437'), (datetime.date(2021, 2, 17), 'RaaJVinderkaur'), (datetime.date(2021, 2, 16), 'jot__b'), (datetime.date(2021, 2, 14), 'rebelpacifist'), (datetime.date(2021, 2, 18), 'neetuanjle_nitu'), (datetime.date(2021, 2, 15), 'jot__b'), (datetime.date(2021, 2, 20), 'MangalJ23056160'), (datetime.date(2021, 2, 23), 'Surrypuria'), (datetime.date(2021, 2, 19), 'Preetm91')]\n",
      "[(datetime.date(2021, 2, 12), 'RanbirS00614606'), (datetime.date(2021, 2, 13), 'MaanDee08215437'), (datetime.date(2021, 2, 17), 'RaaJVinderkaur'), (datetime.date(2021, 2, 16), 'jot__b'), (datetime.date(2021, 2, 14), 'rebelpacifist'), (datetime.date(2021, 2, 18), 'neetuanjle_nitu'), (datetime.date(2021, 2, 15), 'jot__b'), (datetime.date(2021, 2, 20), 'MangalJ23056160'), (datetime.date(2021, 2, 23), 'Surrypuria'), (datetime.date(2021, 2, 19), 'Preetm91')]\n"
     ]
    }
   ],
   "source": [
    "\n",
    "from q1_time import q1_time\n",
    "from q1_memory import q1_memory\n",
    "from analysis import analysis_t_m\n",
    "\n",
    "results_time = analysis_t_m(q1_time, file_path)\n",
    "results_mem = analysis_t_m(q1_memory, file_path)\n",
    "\n",
    "print(results_time)\n",
    "print(results_mem)\n"
   ]
  },
  {
   "cell_type": "markdown",
   "metadata": {},
   "source": [
    "Como se puede apreciar el desempeño no varía mucho en ambas soluciones, se utilizaron otras estructuras para comparar la solución sin pandas, pero se generaban soluciones similares y en teoría el uso de pandas está optimizado para usar grandes volúmenes de datos, pero no se vió particularmente reflejado en los resultados."
   ]
  },
  {
   "cell_type": "markdown",
   "metadata": {},
   "source": [
    "-------------------------------"
   ]
  },
  {
   "cell_type": "markdown",
   "metadata": {},
   "source": [
    "Después de investigar se llegó a una solución por chunks que optimiza la memoria en uso, nunca había implementado este tipo de solución y me impresionaron sus resultados. Por otra parte no he encontrado otras formas de optimizar el tiempo. Además se siguió con la implementación con pandas ya que me siento más cómodo utilizándolo."
   ]
  },
  {
   "cell_type": "code",
   "execution_count": 5,
   "metadata": {},
   "outputs": [
    {
     "name": "stdout",
     "output_type": "stream",
     "text": [
      "Tiempo de ejecución: 6.6086 segundos\n",
      "Uso de memoria máximo: 2694.16 MB\n",
      "Tiempo de ejecución: 5.5720 segundos\n",
      "Uso de memoria máximo: 171.45 MB\n",
      "[('🙏', 7286), ('😂', 3072), ('️', 3061), ('🚜', 2972), ('✊', 2411), ('🌾', 2363), ('🇮', 2096), ('🇳', 2094), ('🏻', 2080), ('❤', 1779)]\n",
      "[('🙏', 7286), ('😂', 3072), ('️', 3061), ('🚜', 2972), ('✊', 2411), ('🌾', 2363), ('🇮', 2096), ('🇳', 2094), ('🏻', 2080), ('❤', 1779)]\n"
     ]
    }
   ],
   "source": [
    "from q2_time import q2_time\n",
    "from q2_memory import q2_memory\n",
    "from analysis import analysis_t_m\n",
    "\n",
    "results_time = analysis_t_m(q2_time, file_path)\n",
    "results_mem = analysis_t_m(q2_memory, file_path)\n",
    "\n",
    "print(results_time)\n",
    "print(results_mem)"
   ]
  },
  {
   "cell_type": "markdown",
   "metadata": {},
   "source": [
    "-------------------"
   ]
  },
  {
   "cell_type": "markdown",
   "metadata": {},
   "source": [
    "Esta fue la implementación más rápida ya que es un proceso similar a las implementaciones anteriores. Una versión más robusta del código anterior ya que contempla la experiencia anterior del análisis."
   ]
  },
  {
   "cell_type": "code",
   "execution_count": 4,
   "metadata": {},
   "outputs": [
    {
     "name": "stdout",
     "output_type": "stream",
     "text": [
      "Tiempo de ejecución: 6.9435 segundos\n",
      "Uso de memoria máximo: 2712.78 MB\n",
      "Tiempo de ejecución: 5.4967 segundos\n",
      "Uso de memoria máximo: 171.47 MB\n",
      "[('narendramodi', 2265), ('Kisanektamorcha', 1840), ('RakeshTikaitBKU', 1644), ('PMOIndia', 1427), ('RahulGandhi', 1146), ('GretaThunberg', 1048), ('RaviSinghKA', 1019), ('rihanna', 986), ('UNHumanRights', 962), ('meenaharris', 926)]\n",
      "[('narendramodi', 2265), ('Kisanektamorcha', 1840), ('RakeshTikaitBKU', 1644), ('PMOIndia', 1427), ('RahulGandhi', 1146), ('GretaThunberg', 1048), ('RaviSinghKA', 1019), ('rihanna', 986), ('UNHumanRights', 962), ('meenaharris', 926)]\n"
     ]
    }
   ],
   "source": [
    "from q3_time import q3_time\n",
    "from q3_memory import q3_memory\n",
    "from analysis import analysis_t_m\n",
    "\n",
    "results_time = analysis_t_m(q3_time, file_path)\n",
    "results_mem = analysis_t_m(q3_memory, file_path)\n",
    "\n",
    "print(results_time)\n",
    "print(results_mem)"
   ]
  },
  {
   "cell_type": "markdown",
   "metadata": {},
   "source": [
    "Por último me gustaría agradecer la experiencia de resolver este challenge, aprendí muchas cosas y me entusiasma aplicar este tipo de soluciones en la vida real."
   ]
  }
 ],
 "metadata": {
  "kernelspec": {
   "display_name": "Python 3",
   "language": "python",
   "name": "python3"
  },
  "language_info": {
   "codemirror_mode": {
    "name": "ipython",
    "version": 3
   },
   "file_extension": ".py",
   "mimetype": "text/x-python",
   "name": "python",
   "nbconvert_exporter": "python",
   "pygments_lexer": "ipython3",
   "version": "3.11.9"
  },
  "orig_nbformat": 4
 },
 "nbformat": 4,
 "nbformat_minor": 2
}
